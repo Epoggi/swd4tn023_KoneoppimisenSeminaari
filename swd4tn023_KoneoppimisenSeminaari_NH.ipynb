{
  "nbformat": 4,
  "nbformat_minor": 0,
  "metadata": {
    "colab": {
      "name": "swd4tn023_KoneoppimisenSeminaari_NH.ipynb",
      "provenance": [],
      "collapsed_sections": [],
      "authorship_tag": "ABX9TyMK4AzMKdO5+DwWPCWX8NUV",
      "include_colab_link": true
    },
    "kernelspec": {
      "name": "python3",
      "display_name": "Python 3"
    }
  },
  "cells": [
    {
      "cell_type": "markdown",
      "metadata": {
        "id": "view-in-github",
        "colab_type": "text"
      },
      "source": [
        "<a href=\"https://colab.research.google.com/github/Epoggi/swd4tn023_KoneoppimisenSeminaari/blob/main/swd4tn023_KoneoppimisenSeminaari_NH.ipynb\" target=\"_parent\"><img src=\"https://colab.research.google.com/assets/colab-badge.svg\" alt=\"Open In Colab\"/></a>"
      ]
    },
    {
      "cell_type": "markdown",
      "metadata": {
        "id": "NJcrjEvfEuEa"
      },
      "source": [
        "Tutoriaalista kiitos Laurence Moroney ja [codelabs](https://codelabs.developers.google.com/codelabs/tensorflow-lab2-computervision/#1) "
      ]
    },
    {
      "cell_type": "markdown",
      "metadata": {
        "id": "jWLYEpr6F7n7"
      },
      "source": [
        "Importataan tensorflow kirjasto"
      ]
    },
    {
      "cell_type": "code",
      "metadata": {
        "colab": {
          "base_uri": "https://localhost:8080/"
        },
        "id": "Re3MILEzEee6",
        "outputId": "4720be0b-bd89-4a96-d833-022044b87b11"
      },
      "source": [
        "import tensorflow as tf\n",
        "print(tf.__version__)\n"
      ],
      "execution_count": null,
      "outputs": [
        {
          "output_type": "stream",
          "text": [
            "2.3.0\n"
          ],
          "name": "stdout"
        }
      ]
    },
    {
      "cell_type": "markdown",
      "metadata": {
        "id": "XBnNeOv-GPTj"
      },
      "source": [
        "Sieltä saamme opetus kuvat ja testi kuvat, dokumentoitu täällä [TensorFlow/Api/fashion_mnist/overview](https://www.tensorflow.org/api_docs/python/tf/keras/datasets/fashion_mnist)"
      ]
    },
    {
      "cell_type": "code",
      "metadata": {
        "id": "RzuUrWzlEzDk"
      },
      "source": [
        "mnist_fashion = tf.keras.datasets.fashion_mnist"
      ],
      "execution_count": null,
      "outputs": []
    },
    {
      "cell_type": "markdown",
      "metadata": {
        "id": "vyCRFnqlGchc"
      },
      "source": [
        "Asetamme ne omiin muuttujiin, [Tensorflow/api/fashion_mnist/load_data](https://www.tensorflow.org/api_docs/python/tf/keras/datasets/fashion_mnist/load_data)"
      ]
    },
    {
      "cell_type": "code",
      "metadata": {
        "id": "jiwVDRsCFCsv"
      },
      "source": [
        "(training_images, training_labels), (test_images, test_labels) = mnist_fashion.load_data()"
      ],
      "execution_count": null,
      "outputs": []
    },
    {
      "cell_type": "markdown",
      "metadata": {
        "id": "wi_rqsNkGm0f"
      },
      "source": [
        "Seuraavalla koodilla voimme testata miltä opetus datan kuvat ja numeraaliset arvot näyttävät"
      ]
    },
    {
      "cell_type": "code",
      "metadata": {
        "id": "Vo1skUICFJtp"
      },
      "source": [
        "import matplotlib.pyplot as plt\n",
        "#Seuraavilla komennoilla voi printtaa kuvan, sekä siihen liittyvät numeraaliset arvot\n",
        "#plt.imshow(training_images[0])\n",
        "#print(training_labels[0])\n",
        "#print(training_images[0])"
      ],
      "execution_count": null,
      "outputs": []
    },
    {
      "cell_type": "markdown",
      "metadata": {
        "id": "jPHfXZSoSRoN"
      },
      "source": [
        "Näemme testaamalla, että arvot ovat 0-255 välillä, voimme normalisoida ne helposti Pythonin avulla\n",
        "\n",
        "**Miksi normalisoidaan** kiitos Shridhar R Kulkarni [stackoverflowssa](https://stackoverflow.com/questions/48284427/why-should-we-normalize-data-for-deep-learning-in-keras)\n",
        "\n",
        "Otetaan esimerkiksi yksinkertainen ohjelma joka arvioi annetaanko lainaa vai ei.\n",
        "\n",
        "Annetaan arvot Age ja Income ja suoritetaan yhtälö:\n",
        "\n",
        "Y = weight_1 * (Age) + weight_2 * (Income) + some_constant\n",
        "\n",
        "Selityksen vuoksi, ikä on yleensä jotain 0 ja 120 välillä ja tulot 10 000 ja 100 000 välillä. Niiden numeraalinen ero on valtava ja siten niiden punnitus suoraan olisi ongelmallista.\n",
        "\n",
        "Asetetaan ne painoiksi (weight_1, weight_2) joiden arvot ovat 0 ja 1 välillä jolloin niiden punnitus on tasa-arvoinen, eikä näin ollen Bill Gates kuolinvuoteellaan voi nostaa astronomista lainaa."
      ]
    },
    {
      "cell_type": "code",
      "metadata": {
        "id": "i4iJJPVyFQs1"
      },
      "source": [
        "training_images  = training_images / 255.0\n",
        "test_images = test_images / 255.0"
      ],
      "execution_count": null,
      "outputs": []
    },
    {
      "cell_type": "markdown",
      "metadata": {
        "id": "-k23LcnAFuao"
      },
      "source": [
        "Nyt voimme alkaa operoimaan oppimista.\n",
        "*   Flatten =  muuntaa neliöstä yksi dimensionaalisen, eli yhden rivin numeroita.\n",
        "![Flatten.png](data:image/png;base64,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)\n",
        "*   Dense = lisää neuroni tason.\n",
        "*   relu = jotenkuten näin, if (x > 0) {return x} else {return 0} se siirtää arvot 0 tai yli seuraavalle neuroni tasolle. \n",
        "*   softmax = Ottaa kasan arvoja valitsee isoimman. Jos viimeisen tason ulosanti näyttää tältä [0.1, 0.1, 0.05, 0.1, 9.5, 0.1, 0.05, 0.05, 0.05], palauttaa se tämän [0,0,0,0,1,0,0,0,0].\n",
        "\n",
        "Tässä kohtaa on mahdollista lisätä lisää neuroni tasoja, mutta kannattanee odottaa kun pääsemme callback funktioon\n",
        "\n",
        "\n"
      ]
    },
    {
      "cell_type": "code",
      "metadata": {
        "id": "THepxt28FZtX"
      },
      "source": [
        "model = tf.keras.models.Sequential([tf.keras.layers.Flatten(),\n",
        "                                    tf.keras.layers.Dense(128, activation=tf.nn.relu), \n",
        "                                    tf.keras.layers.Dense(10, activation=tf.nn.softmax)])"
      ],
      "execution_count": null,
      "outputs": []
    },
    {
      "cell_type": "markdown",
      "metadata": {
        "id": "itoe5bs6M7X2"
      },
      "source": [
        "Nyt meni Aatami yli hilseen.\n",
        "\n",
        "Noh kun meillä on model valmis, seuraavaksi se rakennetaan.\n",
        "\n",
        "Ensin se kasataan optimizer ja loss funktiolla, sitten käydään läpi opetus data ja labels.\n",
        "\n",
        "Modelin tarkoitus on yrittää ymmärtää opetus datan ja labelsien yhteys.\n",
        "\n",
        "Seuraaksi testataan uuden datan kanssa.\n",
        "\n",
        "Metrics parametri laittaan TensorFlown reportoimaan kuinka hyvin tuo testaus onnistuu vertaamalla opetuksen tuloksia testi datan tuloksiin."
      ]
    },
    {
      "cell_type": "code",
      "metadata": {
        "colab": {
          "base_uri": "https://localhost:8080/"
        },
        "id": "_cbbKk_uMeD5",
        "outputId": "d2f15245-d30a-443f-8fb1-2cd4b4b02373"
      },
      "source": [
        "model.compile(optimizer = 'Adam',\n",
        "              loss = 'sparse_categorical_crossentropy',\n",
        "              metrics=['accuracy'])\n",
        "\n",
        "model.fit(training_images, training_labels, epochs=5)"
      ],
      "execution_count": null,
      "outputs": [
        {
          "output_type": "stream",
          "text": [
            "Epoch 1/5\n",
            "1875/1875 [==============================] - 3s 2ms/step - loss: 0.4925 - accuracy: 0.8255\n",
            "Epoch 2/5\n",
            "1875/1875 [==============================] - 3s 2ms/step - loss: 0.3728 - accuracy: 0.8663\n",
            "Epoch 3/5\n",
            "1875/1875 [==============================] - 3s 2ms/step - loss: 0.3370 - accuracy: 0.8764\n",
            "Epoch 4/5\n",
            "1875/1875 [==============================] - 3s 2ms/step - loss: 0.3122 - accuracy: 0.8842\n",
            "Epoch 5/5\n",
            "1875/1875 [==============================] - 3s 2ms/step - loss: 0.2938 - accuracy: 0.8911\n"
          ],
          "name": "stdout"
        },
        {
          "output_type": "execute_result",
          "data": {
            "text/plain": [
              "<tensorflow.python.keras.callbacks.History at 0x7fce364f4588>"
            ]
          },
          "metadata": {
            "tags": []
          },
          "execution_count": 7
        }
      ]
    },
    {
      "cell_type": "markdown",
      "metadata": {
        "id": "NMhNZyMUP-vH"
      },
      "source": [
        "Voimme testata miten model toimii ilman opetusta"
      ]
    },
    {
      "cell_type": "code",
      "metadata": {
        "colab": {
          "base_uri": "https://localhost:8080/"
        },
        "id": "qeHhpUJ-P8dq",
        "outputId": "153662d0-4906-4848-9f69-8d0981920353"
      },
      "source": [
        "model.evaluate(test_images, test_labels)"
      ],
      "execution_count": null,
      "outputs": [
        {
          "output_type": "stream",
          "text": [
            "313/313 [==============================] - 0s 1ms/step - loss: 0.4005 - accuracy: 0.8505\n"
          ],
          "name": "stdout"
        },
        {
          "output_type": "execute_result",
          "data": {
            "text/plain": [
              "[0.4005454480648041, 0.8504999876022339]"
            ]
          },
          "metadata": {
            "tags": []
          },
          "execution_count": 8
        }
      ]
    },
    {
      "cell_type": "markdown",
      "metadata": {
        "id": "zlEYP4P_QUnQ"
      },
      "source": [
        "Lets testataan lisää, seuraava pätkä näyttää miten ohjelma arvioi jokaisen itemin. arvoja on 10 ja ne näyttävät prosentuaalisen todennäköisyyden mihin kategoriaan kyseinen itemi kuuluu. \n",
        "\n",
        "Softmax määrittää arvot 0 ja 1 välille.\n",
        "\n",
        "10 Luokkaa tarkoittaa jokaista erilaista vaatekappaletta, joita on luokiteltu treeni labeleihin"
      ]
    },
    {
      "cell_type": "code",
      "metadata": {
        "colab": {
          "base_uri": "https://localhost:8080/"
        },
        "id": "xWLFwnh_QYzt",
        "outputId": "a7ef086f-34c7-4419-a82d-3d04c038f932"
      },
      "source": [
        "classifications = model.predict(test_images)\n",
        "print(classifications[0])"
      ],
      "execution_count": null,
      "outputs": [
        {
          "output_type": "stream",
          "text": [
            "[1.66711561e-06 4.33559827e-10 1.17425344e-07 4.57204798e-08\n",
            " 8.22639947e-08 1.10847841e-03 8.29198689e-06 2.06867885e-02\n",
            " 1.23126329e-05 9.78182197e-01]\n"
          ],
          "name": "stdout"
        }
      ]
    },
    {
      "cell_type": "markdown",
      "metadata": {
        "id": "_ov-W_NdVGiF"
      },
      "source": [
        "Otetaan käyttöön callback toiminto, voimme siihen määrittää halutun tarkkuuden, jonka saavutettua voimme pysäyttää operaation."
      ]
    },
    {
      "cell_type": "code",
      "metadata": {
        "colab": {
          "base_uri": "https://localhost:8080/"
        },
        "id": "NbiupGjZVWMw",
        "outputId": "2f38e80a-f060-415f-f5d7-a3089518a60c"
      },
      "source": [
        "class myCallback(tf.keras.callbacks.Callback):\n",
        "  def on_epoch_end(self, epoch, logs={}):\n",
        "    if(logs.get('accuracy')>0.90):\n",
        "      print(\"\\nHaluttu tarkkuus 90% saavutettu!\")\n",
        "      self.model.stop_training = True\n",
        "\n",
        "callbacks = myCallback()\n",
        "#En ole ihan varma miksi tutoriaalissa haluttiin nämä määritellä uusiksi\n",
        "mnist_fashion = tf.keras.datasets.fashion_mnist\n",
        "(training_images, training_labels), (test_images, test_labels) = mnist_fashion.load_data()\n",
        "training_images=training_images/255.0\n",
        "test_images=test_images/255.0\n",
        "#Määritellään model tähän uudestaan jotta voimme helposti muokata haluamiamme arvoja\n",
        "#Lisää neuroni kerroksia tällä tf.keras.layers.Dense(jotain, activation=tf.nn.relu),\n",
        "model = tf.keras.models.Sequential([\n",
        "  tf.keras.layers.Flatten(),\n",
        "  #tf.keras.layers.Dense(1024, activation=tf.nn.relu),\n",
        "  tf.keras.layers.Dense(512, activation=tf.nn.relu),\n",
        "  #tf.keras.layers.Dense(256, activation=tf.nn.relu),\n",
        "  tf.keras.layers.Dense(10, activation=tf.nn.softmax)\n",
        "])\n",
        "#Pääsin 99% tarkkuuteen noin 250 kierroksella(epochs), säädin myös neuroni kerroksia\n",
        "model.compile(optimizer='adam', loss='sparse_categorical_crossentropy', metrics=['accuracy'])\n",
        "model.fit(training_images, training_labels, epochs=15, callbacks=[callbacks])"
      ],
      "execution_count": null,
      "outputs": [
        {
          "output_type": "stream",
          "text": [
            "Epoch 1/15\n",
            "1875/1875 [==============================] - 7s 4ms/step - loss: 0.4723 - accuracy: 0.8314\n",
            "Epoch 2/15\n",
            "1875/1875 [==============================] - 7s 4ms/step - loss: 0.3572 - accuracy: 0.8690\n",
            "Epoch 3/15\n",
            "1875/1875 [==============================] - 7s 4ms/step - loss: 0.3219 - accuracy: 0.8810\n",
            "Epoch 4/15\n",
            "1875/1875 [==============================] - 7s 4ms/step - loss: 0.2973 - accuracy: 0.8888\n",
            "Epoch 5/15\n",
            "1875/1875 [==============================] - 7s 4ms/step - loss: 0.2782 - accuracy: 0.8961\n",
            "Epoch 6/15\n",
            "1866/1875 [============================>.] - ETA: 0s - loss: 0.2653 - accuracy: 0.9009\n",
            "Haluttu tarkkuus 90% saavutettu!\n",
            "1875/1875 [==============================] - 7s 4ms/step - loss: 0.2652 - accuracy: 0.9009\n"
          ],
          "name": "stdout"
        },
        {
          "output_type": "execute_result",
          "data": {
            "text/plain": [
              "<tensorflow.python.keras.callbacks.History at 0x7fce335997f0>"
            ]
          },
          "metadata": {
            "tags": []
          },
          "execution_count": 10
        }
      ]
    },
    {
      "cell_type": "markdown",
      "metadata": {
        "id": "uRJetH_wakKJ"
      },
      "source": [
        "Kiitokset osallistumisesta tutoriaaliin. Suomennokset ja mielivaltaiset muutokset Niko Hautala"
      ]
    },
    {
      "cell_type": "markdown",
      "metadata": {
        "id": "ptsGyLoFbX7_"
      },
      "source": [
        "**Lopuksi**\n",
        "\n",
        "Vaihdetaan datasettiä, setit löytyy [tensorflowlta](https://www.tensorflow.org/api_docs/python/tf/keras/datasets/) (mnist, käsinkirjoitettuja numeroita)\n",
        "\n",
        "Lähteenä: [TensorFlow](https://www.tensorflow.org/guide/keras/functional)"
      ]
    },
    {
      "cell_type": "markdown",
      "metadata": {
        "id": "sfGr_Yca3w6H"
      },
      "source": [
        "Sitten kokeillaan, huomioitavaa .reshape jota käytetään tämän datan muokkaamiseen vektoreiksi"
      ]
    },
    {
      "cell_type": "code",
      "metadata": {
        "colab": {
          "base_uri": "https://localhost:8080/"
        },
        "id": "VYpzXdfTcZsX",
        "outputId": "edd90d3b-292b-4d49-dc55-fca9aa78d64a"
      },
      "source": [
        "class uusiCallback(tf.keras.callbacks.Callback):\n",
        "  def on_epoch_end(self, epoch, logs={}):\n",
        "    if(logs.get('accuracy')>0.95):\n",
        "      print(\"\\nHaluttu tarkkuus 95% saavutettu!\")\n",
        "      self.model.stop_training = True\n",
        "\n",
        "callbacks = uusiCallback()\n",
        "\n",
        "mnist = tf.keras.datasets\n",
        "#Tässä kohtaa voimme määritellä datasetin\n",
        "(training_data, training_names), (test_data, test_names) = mnist.mnist.load_data()\n",
        "\n",
        "training_data=training_data.reshape(60000, 784).astype(\"float32\") / 255\n",
        "test_data=test_data.reshape(10000, 784).astype(\"float32\") / 255\n",
        "\n",
        "model = tf.keras.models.Sequential([\n",
        "  tf.keras.layers.Flatten(),\n",
        "  #tf.keras.layers.Dense(1024, activation=tf.nn.relu),\n",
        "  tf.keras.layers.Dense(512, activation=tf.nn.relu),\n",
        "  #tf.keras.layers.Dense(256, activation=tf.nn.relu),\n",
        "  tf.keras.layers.Dense(10, activation=tf.nn.softmax)\n",
        "])\n",
        "\n",
        "model.compile(optimizer='adam', loss='sparse_categorical_crossentropy', metrics=['accuracy'])\n",
        "model.fit(training_data, training_names, epochs=5, callbacks=[callbacks])"
      ],
      "execution_count": null,
      "outputs": [
        {
          "output_type": "stream",
          "text": [
            "Epoch 1/5\n",
            "1875/1875 [==============================] - 7s 4ms/step - loss: 0.2029 - accuracy: 0.9399\n",
            "Epoch 2/5\n",
            "1875/1875 [==============================] - ETA: 0s - loss: 0.0814 - accuracy: 0.9750\n",
            "Haluttu tarkkuus 95% saavutettu!\n",
            "1875/1875 [==============================] - 7s 4ms/step - loss: 0.0814 - accuracy: 0.9750\n"
          ],
          "name": "stdout"
        },
        {
          "output_type": "execute_result",
          "data": {
            "text/plain": [
              "<tensorflow.python.keras.callbacks.History at 0x7fce3cd57630>"
            ]
          },
          "metadata": {
            "tags": []
          },
          "execution_count": 11
        }
      ]
    },
    {
      "cell_type": "markdown",
      "metadata": {
        "id": "Iv00BvZb2HQe"
      },
      "source": [
        "Katsellaan vielä dataa"
      ]
    },
    {
      "cell_type": "code",
      "metadata": {
        "colab": {
          "base_uri": "https://localhost:8080/",
          "height": 1000
        },
        "id": "3sh5Vxvk00qX",
        "outputId": "f7af08d2-7d68-431f-ea38-0d798ce36fa5"
      },
      "source": [
        "mnist = tf.keras.datasets\n",
        "#Tässä kohtaa voimme määritellä datasetin\n",
        "(training_data, training_names), (test_data, test_names) = mnist.mnist.load_data()\n",
        "\n",
        "import matplotlib.pyplot as plt\n",
        "#Seuraavilla komennoilla voi printtaa kuvan, sekä siihen liittyvät numeraaliset arvot\n",
        "plt.imshow(training_data[7])\n",
        "print(\"data 0: \", training_data[7])\n",
        "print(\"label 0: \", training_names[7])"
      ],
      "execution_count": null,
      "outputs": [
        {
          "output_type": "stream",
          "text": [
            "data 0:  [[  0   0   0   0   0   0   0   0   0   0   0   0   0   0   0   0   0   0\n",
            "    0   0   0   0   0   0   0   0   0   0]\n",
            " [  0   0   0   0   0   0   0   0   0   0   0   0   0   0   0   0   0   0\n",
            "    0   0   0   0   0   0   0   0   0   0]\n",
            " [  0   0   0   0   0   0   0   0   0   0   0   0   0   0   0   0   0   0\n",
            "    0   0   0   0   0   0   0   0   0   0]\n",
            " [  0   0   0   0   0   0   0   0   0   0   0   0   0   0   0   0   0   0\n",
            "    0   0   0   0   0   0   0   0   0   0]\n",
            " [  0   0   0   0   0   0   0   0   0   0   0   0   0   0   0   0   0   0\n",
            "    0   0   0   0   0   0   0   0   0   0]\n",
            " [  0   0   0   0   0   0   0   0   0   0   0  38  43 105 255 253 253 253\n",
            "  253 253 174   6   0   0   0   0   0   0]\n",
            " [  0   0   0   0   0   0   0   0   0  43 139 224 226 252 253 252 252 252\n",
            "  252 252 252 158  14   0   0   0   0   0]\n",
            " [  0   0   0   0   0   0   0   0   0 178 252 252 252 252 253 252 252 252\n",
            "  252 252 252 252  59   0   0   0   0   0]\n",
            " [  0   0   0   0   0   0   0   0   0 109 252 252 230 132 133 132 132 189\n",
            "  252 252 252 252  59   0   0   0   0   0]\n",
            " [  0   0   0   0   0   0   0   0   0   4  29  29  24   0   0   0   0  14\n",
            "  226 252 252 172   7   0   0   0   0   0]\n",
            " [  0   0   0   0   0   0   0   0   0   0   0   0   0   0   0   0   0  85\n",
            "  243 252 252 144   0   0   0   0   0   0]\n",
            " [  0   0   0   0   0   0   0   0   0   0   0   0   0   0   0   0  88 189\n",
            "  252 252 252  14   0   0   0   0   0   0]\n",
            " [  0   0   0   0   0   0   0   0   0   0   0   0   0   0  91 212 247 252\n",
            "  252 252 204   9   0   0   0   0   0   0]\n",
            " [  0   0   0   0   0   0   0   0   0  32 125 193 193 193 253 252 252 252\n",
            "  238 102  28   0   0   0   0   0   0   0]\n",
            " [  0   0   0   0   0   0   0   0  45 222 252 252 252 252 253 252 252 252\n",
            "  177   0   0   0   0   0   0   0   0   0]\n",
            " [  0   0   0   0   0   0   0   0  45 223 253 253 253 253 255 253 253 253\n",
            "  253  74   0   0   0   0   0   0   0   0]\n",
            " [  0   0   0   0   0   0   0   0   0  31 123  52  44  44  44  44 143 252\n",
            "  252  74   0   0   0   0   0   0   0   0]\n",
            " [  0   0   0   0   0   0   0   0   0   0   0   0   0   0   0   0  15 252\n",
            "  252  74   0   0   0   0   0   0   0   0]\n",
            " [  0   0   0   0   0   0   0   0   0   0   0   0   0   0   0   0  86 252\n",
            "  252  74   0   0   0   0   0   0   0   0]\n",
            " [  0   0   0   0   0   0   5  75   9   0   0   0   0   0   0  98 242 252\n",
            "  252  74   0   0   0   0   0   0   0   0]\n",
            " [  0   0   0   0   0  61 183 252  29   0   0   0   0  18  92 239 252 252\n",
            "  243  65   0   0   0   0   0   0   0   0]\n",
            " [  0   0   0   0   0 208 252 252 147 134 134 134 134 203 253 252 252 188\n",
            "   83   0   0   0   0   0   0   0   0   0]\n",
            " [  0   0   0   0   0 208 252 252 252 252 252 252 252 252 253 230 153   8\n",
            "    0   0   0   0   0   0   0   0   0   0]\n",
            " [  0   0   0   0   0  49 157 252 252 252 252 252 217 207 146  45   0   0\n",
            "    0   0   0   0   0   0   0   0   0   0]\n",
            " [  0   0   0   0   0   0   7 103 235 252 172 103  24   0   0   0   0   0\n",
            "    0   0   0   0   0   0   0   0   0   0]\n",
            " [  0   0   0   0   0   0   0   0   0   0   0   0   0   0   0   0   0   0\n",
            "    0   0   0   0   0   0   0   0   0   0]\n",
            " [  0   0   0   0   0   0   0   0   0   0   0   0   0   0   0   0   0   0\n",
            "    0   0   0   0   0   0   0   0   0   0]\n",
            " [  0   0   0   0   0   0   0   0   0   0   0   0   0   0   0   0   0   0\n",
            "    0   0   0   0   0   0   0   0   0   0]]\n",
            "label 0:  3\n"
          ],
          "name": "stdout"
        },
        {
          "output_type": "display_data",
          "data": {
            "image/png": "[encoded data removed]",
            "text/plain": [
              "<Figure size 432x288 with 1 Axes>"
            ]
          },
          "metadata": {
            "tags": [],
            "needs_background": "light"
          }
        }
      ]
    }
  ]
}